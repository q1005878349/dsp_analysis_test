import numpy as np
import pandas as pd
import matplotlib.pyplot as plt


# 采样频率fs 与采样点数N
fs = 100
N = 128
# x轴数据
x = np.arange(0, 1, 100/N)
# 待生成正弦波的频率
f_0 = 10
# 采集时长 = 采样点数/采集频率
t = N / fs

y = np.sin(2*np.pi*f_0*t)
# plt.figure()
# plt.plot([x, y])
# plt.show()
y



