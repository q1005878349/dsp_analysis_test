{
 "cells": [
  {
   "cell_type": "code",
   "execution_count": 1,
   "id": "fc7fdf42-3077-450f-8539-093d9ca47747",
   "metadata": {
    "tags": []
   },
   "outputs": [],
   "source": [
    "import numpy as np\n",
    "import pandas as pd\n",
    "import matplotlib.pyplot as plt"
   ]
  },
  {
   "cell_type": "markdown",
   "id": "82d16775-277a-4d4f-ad95-41d2eab7a535",
   "metadata": {},
   "source": [
    "# 生成正弦波"
   ]
  },
  {
   "cell_type": "code",
   "execution_count": 7,
   "id": "518bcdb8-e488-4ef9-878e-1bc992383865",
   "metadata": {
    "tags": []
   },
   "outputs": [
    {
     "data": {
      "text/plain": [
       "-0.9510565162951545"
      ]
     },
     "execution_count": 7,
     "metadata": {},
     "output_type": "execute_result"
    }
   ],
   "source": [
    "# 采样频率fs 与采样点数N\n",
    "fs = 100\n",
    "N = 128\n",
    "# x轴数据\n",
    "x = np.arange(0, 1, 100/N)\n",
    "# 待生成正弦波的频率\n",
    "f_0 = 10\n",
    "# 采集时长 = 采样点数/采集频率\n",
    "t = N / fs\n",
    "\n",
    "y = np.sin(2*np.pi*f_0*t)\n",
    "# plt.figure()\n",
    "# plt.plot([x, y])\n",
    "# plt.show()\n",
    "y"
   ]
  },
  {
   "cell_type": "code",
   "execution_count": null,
   "id": "2c865967-8a58-446c-a2ed-cfe9d7303977",
   "metadata": {},
   "outputs": [],
   "source": []
  }
 ],
 "metadata": {
  "kernelspec": {
   "display_name": "Python 3 (ipykernel)",
   "language": "python",
   "name": "python3"
  },
  "language_info": {
   "codemirror_mode": {
    "name": "ipython",
    "version": 3
   },
   "file_extension": ".py",
   "mimetype": "text/x-python",
   "name": "python",
   "nbconvert_exporter": "python",
   "pygments_lexer": "ipython3",
   "version": "3.9.16"
  }
 },
 "nbformat": 4,
 "nbformat_minor": 5
}
